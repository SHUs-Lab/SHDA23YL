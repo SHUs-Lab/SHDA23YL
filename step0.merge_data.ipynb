{
 "cells": [
  {
   "cell_type": "code",
   "execution_count": 20,
   "id": "567c0a15",
   "metadata": {},
   "outputs": [],
   "source": [
    "import numpy as np\n",
    "import matplotlib.pyplot as plt"
   ]
  },
  {
   "cell_type": "code",
   "execution_count": 21,
   "id": "8dab6193",
   "metadata": {},
   "outputs": [],
   "source": [
    "path = \"Data4Area5C/\"\n",
    "states = [\"CA\", \"IL\", \"ND\", \"NE\"]"
   ]
  },
  {
   "cell_type": "code",
   "execution_count": 22,
   "id": "b1eea2cb",
   "metadata": {},
   "outputs": [],
   "source": [
    "\n",
    "def replace_nan(ndwi):\n",
    "    nans = np.where(np.isnan(ndwi))\n",
    "    print(len(nans[0]), \" NANs\")\n",
    "#     for i in np.unique(nans[0]):\n",
    "#         plt.imshow(ndwi[i])\n",
    "#         plt.show()\n",
    "        \n",
    "    for i in range(len(nans[0])):\n",
    "        drs = [1, -1 , 0, 0]\n",
    "        dcs = [0, 0, 1, -1]\n",
    "        vals = 0\n",
    "        for j in range(4):\n",
    "            val = ndwi[nans[0][i], min(99, max(0, nans[1][i]+drs[j])), min(99, max(0, nans[2][i]+dcs[j]))][0]\n",
    "            if np.isnan(val) == False:\n",
    "                vals += val \n",
    "        #print(vals/4)\n",
    "        ndwi[nans[0][i], nans[1][i], nans[2][i], nans[3][i]] = vals/4\n",
    "    return ndwi\n"
   ]
  },
  {
   "cell_type": "code",
   "execution_count": 23,
   "id": "338d3cad",
   "metadata": {},
   "outputs": [
    {
     "name": "stdout",
     "output_type": "stream",
     "text": [
      "Before Nan Removal\n",
      "0.0 1.0000305\n",
      "nan nan\n",
      "nan nan\n",
      "\n",
      "4  NANs\n",
      "1371  NANs\n",
      "\n",
      "After Nan Removal\n",
      "-1.0 1.0\n",
      "-1.0 1.0\n",
      "Before Nan Removal\n",
      "0.0 1.000061\n",
      "-1.0 0.8507463\n",
      "-0.875 1.0\n",
      "\n",
      "0  NANs\n",
      "0  NANs\n",
      "\n",
      "After Nan Removal\n",
      "-0.875 1.0\n",
      "-1.0 0.8507463\n",
      "Before Nan Removal\n",
      "0.0 1.0002441\n",
      "-1.0 0.93142855\n",
      "-0.78723407 1.0\n",
      "\n",
      "0  NANs\n",
      "0  NANs\n",
      "\n",
      "After Nan Removal\n",
      "-0.78723407 1.0\n",
      "-1.0 0.93142855\n",
      "Before Nan Removal\n",
      "0.0 1.0002441\n",
      "-1.0 1.0\n",
      "-0.69162995 1.0\n",
      "\n",
      "0  NANs\n",
      "0  NANs\n",
      "\n",
      "After Nan Removal\n",
      "-0.69162995 1.0\n",
      "-1.0 1.0\n"
     ]
    }
   ],
   "source": [
    "for i in range(4):\n",
    "    norms = np.load(path + states[i] + \"_Norm_data5C.npy\")\n",
    "    ndwi = np.load(path+states[i]+\"_NDWI.npy\")\n",
    "    ndvi = np.load(path+states[i] + \"_NDVI.npy\")\n",
    "\n",
    "    print(\"Before Nan Removal\")\n",
    "    print(norms.min(), norms.max())\n",
    "    print(ndvi.min(), ndvi.max())\n",
    "    print(ndwi.min(), ndwi.max())\n",
    "\n",
    "    print()\n",
    "    ndwi = replace_nan(ndwi)\n",
    "    ndvi = replace_nan(ndvi)\n",
    "    print()\n",
    "\n",
    "    print(\"After Nan Removal\")\n",
    "    print(ndwi.min(), ndwi.max())\n",
    "    print(ndvi.min(), ndvi.max())\n",
    "\n",
    "    np.save(states[i]+\".npy\", np.concatenate([norms, ndwi, ndvi], axis=3))"
   ]
  },
  {
   "cell_type": "code",
   "execution_count": 24,
   "id": "4f3d4670",
   "metadata": {},
   "outputs": [],
   "source": [
    "i=0\n",
    "\n",
    "tot = np.load(states[0]+\".npy\")\n",
    "tot_label = np.load(path + states[0] + \"_label.npy\")\n",
    "\n",
    "for i in range(1, 4):\n",
    "    a = np.load(states[i]+\".npy\")\n",
    "    b = np.load(path + states[i] + \"_label.npy\")\n",
    "    tot = np.concatenate([tot, a], axis=0)\n",
    "    tot_label = np.concatenate([tot_label, b])\n",
    "    \n",
    "np.save(\"whole_data.npy\", tot)\n",
    "np.save(\"whole_label.npy\", tot_label)"
   ]
  },
  {
   "cell_type": "code",
   "execution_count": 25,
   "id": "9b16d1e4",
   "metadata": {},
   "outputs": [
    {
     "data": {
      "text/plain": [
       "((12068, 100, 100, 7), (12068,))"
      ]
     },
     "execution_count": 25,
     "metadata": {},
     "output_type": "execute_result"
    }
   ],
   "source": [
    "tot.shape, tot_label.shape"
   ]
  },
  {
   "cell_type": "code",
   "execution_count": null,
   "id": "15a9ae3d",
   "metadata": {},
   "outputs": [],
   "source": []
  },
  {
   "cell_type": "code",
   "execution_count": null,
   "id": "c462cbe9",
   "metadata": {},
   "outputs": [],
   "source": []
  },
  {
   "cell_type": "code",
   "execution_count": null,
   "id": "76cfb07c",
   "metadata": {},
   "outputs": [],
   "source": []
  },
  {
   "cell_type": "code",
   "execution_count": null,
   "id": "018c07ef",
   "metadata": {},
   "outputs": [],
   "source": []
  }
 ],
 "metadata": {
  "kernelspec": {
   "display_name": "Python 3 (ipykernel)",
   "language": "python",
   "name": "python3"
  },
  "language_info": {
   "codemirror_mode": {
    "name": "ipython",
    "version": 3
   },
   "file_extension": ".py",
   "mimetype": "text/x-python",
   "name": "python",
   "nbconvert_exporter": "python",
   "pygments_lexer": "ipython3",
   "version": "3.10.9"
  }
 },
 "nbformat": 4,
 "nbformat_minor": 5
}
